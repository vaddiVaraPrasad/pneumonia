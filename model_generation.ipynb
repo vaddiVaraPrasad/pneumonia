{
 "cells": [
  {
   "cell_type": "code",
   "execution_count": 6,
   "id": "c21b1970",
   "metadata": {},
   "outputs": [],
   "source": [
    "import pandas as pd\n",
    "import numpy as np\n",
    "import matplotlib.pyplot as plt\n",
    "from sklearn.metrics import confusion_matrix\n",
    "import tensorflow as tf\n",
    "import seaborn as sn\n",
    "import os\n",
    "import cv2 as cv"
   ]
  },
  {
   "cell_type": "code",
   "execution_count": 11,
   "id": "ee568be3",
   "metadata": {},
   "outputs": [
    {
     "data": {
      "text/plain": [
       "(1341, 3875, 234, 390)"
      ]
     },
     "execution_count": 11,
     "metadata": {},
     "output_type": "execute_result"
    }
   ],
   "source": [
    "train_normal_path = \"./chest_xray/train/NORMAL\"\n",
    "train_pneumonia_path = \"./chest_xray/train/PNEUMONIA\"\n",
    "test_normal_path = \"./chest_xray/test/NORMAL\"\n",
    "test_pneumonia_path = \"./chest_xray/test/PNEUMONIA\"\n",
    "\n",
    "train_normal_lst = []\n",
    "train_pneumonia_lst = []\n",
    "test_normal_lst = []\n",
    "test_pneumonia_lst = []\n",
    "\n",
    "train_normal_len = len(os.listdir(train_normal_path))\n",
    "train_pneumonia_len = len(os.listdir(train_pneumonia_path))\n",
    "test_normal_len = len(os.listdir(test_normal_path))\n",
    "test_pneumonia_len = len(os.listdir(test_pneumonia_path))\n",
    "train_normal_len,train_pneumonia_len,test_normal_len,test_pneumonia_len"
   ]
  },
  {
   "cell_type": "markdown",
   "id": "53502d04",
   "metadata": {},
   "source": [
    "we can observe...here size of data..is diffrent for normal and pneumonia ..\n",
    "so we have to either use oversampling or undersampling for it "
   ]
  },
  {
   "cell_type": "code",
   "execution_count": 12,
   "id": "43c0981c",
   "metadata": {},
   "outputs": [],
   "source": [
    "##  ---> UNDER-SAMPLING\n",
    "count_1 = 0\n",
    "count_2 = 0\n",
    "count_3 = 0\n",
    "count_4 = 0\n",
    "for pics in os.listdir(train_normal_path):\n",
    "    if count_1 <= train_normal_len:\n",
    "        img = cv.imread(os.path.join(train_normal_path,pics))\n",
    "        img = cv.resize(img,(27,27),cv.INTER_LINEAR)\n",
    "        img = img / 255\n",
    "        count_1 = count_1 + 1\n",
    "        train_normal_lst.append(img)\n",
    "for pics in os.listdir(train_pneumonia_path):\n",
    "    if count_2 <= train_normal_len:\n",
    "        img = cv.imread(os.path.join(train_pneumonia_path,pics))\n",
    "        img = cv.resize(img,(27,27),cv.INTER_LINEAR)\n",
    "        img = img / 255\n",
    "        count_2 = count_2 + 1\n",
    "        train_pneumonia_lst.append(img)\n",
    "for pics in os.listdir(test_normal_path):\n",
    "    if count_3 <= test_normal_len:\n",
    "        img = cv.imread(os.path.join(test_normal_path,pics))\n",
    "        img = cv.resize(img,(27,27),cv.INTER_LINEAR)\n",
    "        img = img / 255\n",
    "        count_3 = count_3 + 1\n",
    "        test_normal_lst.append(img)\n",
    "for pics in os.listdir(test_pneumonia_path):\n",
    "    if count_4 <= test_normal_len:\n",
    "        img = cv.imread(os.path.join(test_pneumonia_path,pics))\n",
    "        img = cv.resize(img,(27,27),cv.INTER_LINEAR)\n",
    "        img = img / 255\n",
    "        count_4 = count_4 + 1\n",
    "        test_pneumonia_lst.append(img)\n",
    "train_normal_np = np.array(train_normal_lst)\n",
    "train_pneumonia_np = np.array(train_pneumonia_lst)\n",
    "test_normal_np = np.array(test_normal_lst)\n",
    "test_pneumonia_np = np.array(test_pneumonia_lst)"
   ]
  },
  {
   "cell_type": "code",
   "execution_count": 13,
   "id": "54761b89",
   "metadata": {},
   "outputs": [],
   "source": [
    "np.save(\"train_normal_np.npy\",train_normal_np)\n",
    "np.save(\"train_pneumonia_np.npy\",train_pneumonia_np)\n",
    "np.save(\"test_normal_np.npy\",test_normal_np)\n",
    "np.save(\"test_pneumonia_np.npy\",test_pneumonia_np)"
   ]
  },
  {
   "cell_type": "code",
   "execution_count": 14,
   "id": "be28092a",
   "metadata": {},
   "outputs": [
    {
     "data": {
      "text/plain": [
       "((1341, 27, 27, 3), (1342, 27, 27, 3), (234, 27, 27, 3), (235, 27, 27, 3))"
      ]
     },
     "execution_count": 14,
     "metadata": {},
     "output_type": "execute_result"
    }
   ],
   "source": [
    "train_normal_np.shape , train_pneumonia_np.shape , test_normal_np.shape , test_pneumonia_np.shape "
   ]
  },
  {
   "cell_type": "code",
   "execution_count": 15,
   "id": "e46c4834",
   "metadata": {},
   "outputs": [],
   "source": [
    "dict_label = {0:\"NORMAL\",\n",
    "             1:\"PNEUMONIA\"}\n",
    "train_normal_label = np.ones(train_normal_np.shape[0]) * 0\n",
    "train_pneumonia_label = np.ones(train_pneumonia_np.shape[0]) * 1\n",
    "test_normal_label = np.ones(test_normal_np.shape[0]) * 0\n",
    "test_pneumonia_label = np.ones(test_pneumonia_np.shape[0]) * 1"
   ]
  },
  {
   "cell_type": "code",
   "execution_count": 16,
   "id": "687fe9bb",
   "metadata": {},
   "outputs": [
    {
     "data": {
      "text/plain": [
       "((1341,), (1342,), (234,), (235,))"
      ]
     },
     "execution_count": 16,
     "metadata": {},
     "output_type": "execute_result"
    }
   ],
   "source": [
    "train_normal_label.shape , train_pneumonia_label.shape , test_normal_label.shape , test_pneumonia_label.shape "
   ]
  },
  {
   "cell_type": "code",
   "execution_count": 17,
   "id": "2648ee81",
   "metadata": {},
   "outputs": [
    {
     "data": {
      "text/plain": [
       "((2683, 27, 27, 3), (469, 27, 27, 3), (2683,), (469,))"
      ]
     },
     "execution_count": 17,
     "metadata": {},
     "output_type": "execute_result"
    }
   ],
   "source": [
    "x_train = np.concatenate((train_normal_np,train_pneumonia_np),axis=0)\n",
    "x_test = np.concatenate((test_normal_np,test_pneumonia_np),axis=0)\n",
    "y_train = np.concatenate((train_normal_label,train_pneumonia_label),axis=0)\n",
    "y_test = np.concatenate((test_normal_label,test_pneumonia_label),axis=0)\n",
    "x_train.shape , x_test.shape , y_train.shape , y_test.shape "
   ]
  },
  {
   "cell_type": "code",
   "execution_count": 52,
   "id": "eee746c3",
   "metadata": {},
   "outputs": [],
   "source": [
    "model = tf.keras.Sequential([\n",
    "    tf.keras.layers.Conv2D(filters=16,kernel_size=(3,3),activation=\"relu\"),\n",
    "    tf.keras.layers.MaxPool2D(),\n",
    "    tf.keras.layers.Conv2D(filters=32,kernel_size=(3,3),activation=\"relu\"),\n",
    "    tf.keras.layers.MaxPool2D(),\n",
    "    tf.keras.layers.Conv2D(filters=64,kernel_size=(3,3),activation=\"relu\"),\n",
    "    tf.keras.layers.MaxPool2D(),\n",
    "    tf.keras.layers.Flatten(),\n",
    "    tf.keras.layers.Dense(128,activation=\"relu\"),\n",
    "    tf.keras.layers.Dropout(.7),\n",
    "    tf.keras.layers.Dense(50,activation=\"relu\"),\n",
    "    tf.keras.layers.Dropout(.7),\n",
    "    tf.keras.layers.Dense(20,activation=\"relu\"),\n",
    "    tf.keras.layers.Dropout(.5),\n",
    "    tf.keras.layers.Dense(1,activation=\"sigmoid\")\n",
    "])\n",
    "model.compile(optimizer=\"adam\",loss=tf.keras.losses.binary_crossentropy,metrics=[\"accuracy\"])"
   ]
  },
  {
   "cell_type": "code",
   "execution_count": 53,
   "id": "3f9d9f80",
   "metadata": {},
   "outputs": [
    {
     "name": "stdout",
     "output_type": "stream",
     "text": [
      "Epoch 1/8\n",
      "84/84 [==============================] - 2s 13ms/step - loss: 0.6978 - accuracy: 0.4935\n",
      "Epoch 2/8\n",
      "84/84 [==============================] - 1s 11ms/step - loss: 0.6931 - accuracy: 0.5181\n",
      "Epoch 3/8\n",
      "84/84 [==============================] - 1s 13ms/step - loss: 0.6926 - accuracy: 0.5061\n",
      "Epoch 4/8\n",
      "84/84 [==============================] - 1s 13ms/step - loss: 0.6830 - accuracy: 0.5438\n",
      "Epoch 5/8\n",
      "84/84 [==============================] - 1s 12ms/step - loss: 0.6811 - accuracy: 0.5419\n",
      "Epoch 6/8\n",
      "84/84 [==============================] - 1s 12ms/step - loss: 0.6465 - accuracy: 0.6377\n",
      "Epoch 7/8\n",
      "84/84 [==============================] - 1s 12ms/step - loss: 0.5162 - accuracy: 0.8002\n",
      "Epoch 8/8\n",
      "84/84 [==============================] - 1s 12ms/step - loss: 0.4128 - accuracy: 0.8591\n"
     ]
    },
    {
     "data": {
      "text/plain": [
       "<keras.callbacks.History at 0x1dc17a621f0>"
      ]
     },
     "execution_count": 53,
     "metadata": {},
     "output_type": "execute_result"
    }
   ],
   "source": [
    "model.fit(x_train,y_train,epochs=8)"
   ]
  },
  {
   "cell_type": "code",
   "execution_count": 54,
   "id": "55fbedf2",
   "metadata": {},
   "outputs": [
    {
     "name": "stdout",
     "output_type": "stream",
     "text": [
      "15/15 [==============================] - 0s 5ms/step - loss: 0.3678 - accuracy: 0.8465\n"
     ]
    },
    {
     "data": {
      "text/plain": [
       "[0.36782407760620117, 0.8464818596839905]"
      ]
     },
     "execution_count": 54,
     "metadata": {},
     "output_type": "execute_result"
    }
   ],
   "source": [
    "model.evaluate(x_test,y_test)\n",
    "# we have 85% accuravy...here..its among all possible epoch 5 7 8 10 ...remaing all are .either underfit \n",
    "# or overfitted \n",
    "# only bythis ...its not at all...overfitted nor underfitted....\n",
    "# its almost shows same accuracy on train and test set both"
   ]
  },
  {
   "cell_type": "code",
   "execution_count": 57,
   "id": "4055d4cd",
   "metadata": {},
   "outputs": [],
   "source": [
    "model.save(\"pneumonia.h5\",model)"
   ]
  },
  {
   "cell_type": "code",
   "execution_count": 59,
   "id": "174a974d",
   "metadata": {},
   "outputs": [
    {
     "name": "stdout",
     "output_type": "stream",
     "text": [
      "Model: \"sequential_10\"\n",
      "_________________________________________________________________\n",
      " Layer (type)                Output Shape              Param #   \n",
      "=================================================================\n",
      " conv2d_30 (Conv2D)          (None, 25, 25, 16)        448       \n",
      "                                                                 \n",
      " max_pooling2d_30 (MaxPoolin  (None, 12, 12, 16)       0         \n",
      " g2D)                                                            \n",
      "                                                                 \n",
      " conv2d_31 (Conv2D)          (None, 10, 10, 32)        4640      \n",
      "                                                                 \n",
      " max_pooling2d_31 (MaxPoolin  (None, 5, 5, 32)         0         \n",
      " g2D)                                                            \n",
      "                                                                 \n",
      " conv2d_32 (Conv2D)          (None, 3, 3, 64)          18496     \n",
      "                                                                 \n",
      " max_pooling2d_32 (MaxPoolin  (None, 1, 1, 64)         0         \n",
      " g2D)                                                            \n",
      "                                                                 \n",
      " flatten_10 (Flatten)        (None, 64)                0         \n",
      "                                                                 \n",
      " dense_40 (Dense)            (None, 128)               8320      \n",
      "                                                                 \n",
      " dropout_30 (Dropout)        (None, 128)               0         \n",
      "                                                                 \n",
      " dense_41 (Dense)            (None, 50)                6450      \n",
      "                                                                 \n",
      " dropout_31 (Dropout)        (None, 50)                0         \n",
      "                                                                 \n",
      " dense_42 (Dense)            (None, 20)                1020      \n",
      "                                                                 \n",
      " dropout_32 (Dropout)        (None, 20)                0         \n",
      "                                                                 \n",
      " dense_43 (Dense)            (None, 1)                 21        \n",
      "                                                                 \n",
      "=================================================================\n",
      "Total params: 39,395\n",
      "Trainable params: 39,395\n",
      "Non-trainable params: 0\n",
      "_________________________________________________________________\n"
     ]
    }
   ],
   "source": [
    "model.summary()\n",
    "# model summary"
   ]
  },
  {
   "cell_type": "code",
   "execution_count": 62,
   "id": "6a523c2d",
   "metadata": {},
   "outputs": [],
   "source": [
    "y_predicted = model.predict(x_test)\n",
    "y_predicted = np.resize(y_predicted,y_predicted.shape[0])\n",
    "y_predicted = np.round(y_predicted)"
   ]
  },
  {
   "cell_type": "code",
   "execution_count": 64,
   "id": "dcfb256a",
   "metadata": {},
   "outputs": [
    {
     "data": {
      "image/png": "[encoded data removed]",
      "text/plain": [
       "<Figure size 432x288 with 2 Axes>"
      ]
     },
     "metadata": {
      "needs_background": "light"
     },
     "output_type": "display_data"
    }
   ],
   "source": [
    "cf_matrix = confusion_matrix(y_test,y_predicted)\n",
    "sn.heatmap(cf_matrix,annot=True)\n",
    "plt.xlabel(\"predicted\")\n",
    "plt.ylabel(\"real\")\n",
    "plt.show()\n",
    "# now we can...see...error in prediction is damm low "
   ]
  },
  {
   "cell_type": "code",
   "execution_count": null,
   "id": "1f1e1aa8",
   "metadata": {},
   "outputs": [],
   "source": []
  }
 ],
 "metadata": {
  "kernelspec": {
   "display_name": "Python 3 (ipykernel)",
   "language": "python",
   "name": "python3"
  },
  "language_info": {
   "codemirror_mode": {
    "name": "ipython",
    "version": 3
   },
   "file_extension": ".py",
   "mimetype": "text/x-python",
   "name": "python",
   "nbconvert_exporter": "python",
   "pygments_lexer": "ipython3",
   "version": "3.9.7"
  }
 },
 "nbformat": 4,
 "nbformat_minor": 5
}
