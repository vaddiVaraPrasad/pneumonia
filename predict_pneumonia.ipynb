{
 "cells": [
  {
   "cell_type": "code",
   "execution_count": 7,
   "id": "8641ee89",
   "metadata": {},
   "outputs": [],
   "source": [
    "import numpy as np\n",
    "import h5py\n",
    "import tensorflow as tf\n",
    "import os\n",
    "import cv2 as cv"
   ]
  },
  {
   "cell_type": "markdown",
   "id": "6c144e5c",
   "metadata": {},
   "source": [
    "if we wanna to predicted whether the person is get efforted by pneumonia \n",
    "place the x_ray image in check_pneumonia folder and run this file ...\n",
    "if there are more then one xray ...its gives the predicted resplectively \n"
   ]
  },
  {
   "cell_type": "code",
   "execution_count": 17,
   "id": "aac16c9d",
   "metadata": {},
   "outputs": [],
   "source": [
    "dict_label = {0.0:\"NORMAL\",\n",
    "             1.0:\"PNEUMONIA\"}"
   ]
  },
  {
   "cell_type": "code",
   "execution_count": 9,
   "id": "f69e525a",
   "metadata": {},
   "outputs": [
    {
     "data": {
      "text/plain": [
       "(6, 27, 27, 3)"
      ]
     },
     "execution_count": 9,
     "metadata": {},
     "output_type": "execute_result"
    }
   ],
   "source": [
    "check_pneumonia_path = \"./check_pneumonia\"\n",
    "list_pics_folder_lst = []\n",
    "for pics in os.listdir(check_pneumonia_path):\n",
    "    img = cv.imread(os.path.join(check_pneumonia_path,pics))\n",
    "    img = cv.resize(img,(27,27),cv.INTER_LINEAR)\n",
    "    img = img / 255\n",
    "    list_pics_folder_lst.append(img)\n",
    "list_pics_folder_np = np.array(list_pics_folder_lst)\n",
    "list_pics_folder_np.shape"
   ]
  },
  {
   "cell_type": "code",
   "execution_count": 14,
   "id": "ccc0c9a6",
   "metadata": {},
   "outputs": [
    {
     "name": "stdout",
     "output_type": "stream",
     "text": [
      "Model: \"sequential_10\"\n",
      "_________________________________________________________________\n",
      " Layer (type)                Output Shape              Param #   \n",
      "=================================================================\n",
      " conv2d_30 (Conv2D)          (None, 25, 25, 16)        448       \n",
      "                                                                 \n",
      " max_pooling2d_30 (MaxPoolin  (None, 12, 12, 16)       0         \n",
      " g2D)                                                            \n",
      "                                                                 \n",
      " conv2d_31 (Conv2D)          (None, 10, 10, 32)        4640      \n",
      "                                                                 \n",
      " max_pooling2d_31 (MaxPoolin  (None, 5, 5, 32)         0         \n",
      " g2D)                                                            \n",
      "                                                                 \n",
      " conv2d_32 (Conv2D)          (None, 3, 3, 64)          18496     \n",
      "                                                                 \n",
      " max_pooling2d_32 (MaxPoolin  (None, 1, 1, 64)         0         \n",
      " g2D)                                                            \n",
      "                                                                 \n",
      " flatten_10 (Flatten)        (None, 64)                0         \n",
      "                                                                 \n",
      " dense_40 (Dense)            (None, 128)               8320      \n",
      "                                                                 \n",
      " dropout_30 (Dropout)        (None, 128)               0         \n",
      "                                                                 \n",
      " dense_41 (Dense)            (None, 50)                6450      \n",
      "                                                                 \n",
      " dropout_31 (Dropout)        (None, 50)                0         \n",
      "                                                                 \n",
      " dense_42 (Dense)            (None, 20)                1020      \n",
      "                                                                 \n",
      " dropout_32 (Dropout)        (None, 20)                0         \n",
      "                                                                 \n",
      " dense_43 (Dense)            (None, 1)                 21        \n",
      "                                                                 \n",
      "=================================================================\n",
      "Total params: 39,395\n",
      "Trainable params: 39,395\n",
      "Non-trainable params: 0\n",
      "_________________________________________________________________\n"
     ]
    }
   ],
   "source": [
    "model_pneumonia = tf.keras.models.load_model(\"pneumonia.h5\")\n",
    "model_pneumonia.summary()"
   ]
  },
  {
   "cell_type": "code",
   "execution_count": 15,
   "id": "5e41d098",
   "metadata": {},
   "outputs": [
    {
     "data": {
      "text/plain": [
       "array([0., 0., 0., 1., 1., 0.], dtype=float32)"
      ]
     },
     "execution_count": 15,
     "metadata": {},
     "output_type": "execute_result"
    }
   ],
   "source": [
    "pneumonia_img_predicted = model_pneumonia.predict(list_pics_folder_np)\n",
    "pneumonia_img_predicted = np.reshape(pneumonia_img_predicted,pneumonia_img_predicted.shape[0])\n",
    "pneumonia_img_predicted = np.round(pneumonia_img_predicted)\n",
    "pneumonia_img_predicted"
   ]
  },
  {
   "cell_type": "code",
   "execution_count": 19,
   "id": "49b890b9",
   "metadata": {},
   "outputs": [
    {
     "name": "stdout",
     "output_type": "stream",
     "text": [
      "img-->1  <==>  NORMAL\n",
      "img-->2  <==>  NORMAL\n",
      "img-->3  <==>  NORMAL\n",
      "img-->4  <==>  PNEUMONIA\n",
      "img-->5  <==>  PNEUMONIA\n",
      "img-->6  <==>  NORMAL\n"
     ]
    }
   ],
   "source": [
    "count = 1\n",
    "for num in pneumonia_img_predicted:\n",
    "    disease = dict_label[num]\n",
    "    print(f\"img-->{count}  <==>  {disease}\")\n",
    "    count = count + 1"
   ]
  },
  {
   "cell_type": "code",
   "execution_count": null,
   "id": "5e501ed9",
   "metadata": {},
   "outputs": [],
   "source": []
  }
 ],
 "metadata": {
  "kernelspec": {
   "display_name": "Python 3 (ipykernel)",
   "language": "python",
   "name": "python3"
  },
  "language_info": {
   "codemirror_mode": {
    "name": "ipython",
    "version": 3
   },
   "file_extension": ".py",
   "mimetype": "text/x-python",
   "name": "python",
   "nbconvert_exporter": "python",
   "pygments_lexer": "ipython3",
   "version": "3.9.7"
  }
 },
 "nbformat": 4,
 "nbformat_minor": 5
}
